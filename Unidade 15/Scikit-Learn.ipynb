{
 "cells": [
  {
   "cell_type": "markdown",
   "metadata": {},
   "source": [
    "## **Machine Learning com Scikit-Learn**"
   ]
  },
  {
   "cell_type": "markdown",
   "metadata": {},
   "source": [
    "Problema de Negócio:<br>\n",
    "Usando dados históricos, é possível prever o salário de alguém com base no tempo dedicado aos estudos em horas por mês?"
   ]
  },
  {
   "cell_type": "code",
   "execution_count": 1,
   "metadata": {},
   "outputs": [],
   "source": [
    "#Imports\n",
    "import numpy as np\n",
    "import pandas as pd\n",
    "import matplotlib.pyplot as plt\n",
    "import seaborn as sns\n",
    "from sklearn.linear_model import LinearRegression\n",
    "from sklearn.model_selection import train_test_split"
   ]
  },
  {
   "cell_type": "markdown",
   "metadata": {},
   "source": [
    "## **Carregando os Dados**"
   ]
  },
  {
   "cell_type": "code",
   "execution_count": 2,
   "metadata": {},
   "outputs": [],
   "source": [
    "# Carrega o dataset\n",
    "df_dsa = pd.read_csv(\"dataset.csv\")"
   ]
  },
  {
   "cell_type": "code",
   "execution_count": 3,
   "metadata": {},
   "outputs": [
    {
     "data": {
      "text/plain": [
       "(500, 2)"
      ]
     },
     "execution_count": 3,
     "metadata": {},
     "output_type": "execute_result"
    }
   ],
   "source": [
    "df_dsa.shape"
   ]
  },
  {
   "cell_type": "code",
   "execution_count": 4,
   "metadata": {},
   "outputs": [
    {
     "data": {
      "text/plain": [
       "Index(['horas_estudo_mes', 'salario'], dtype='object')"
      ]
     },
     "execution_count": 4,
     "metadata": {},
     "output_type": "execute_result"
    }
   ],
   "source": [
    "df_dsa.columns"
   ]
  },
  {
   "cell_type": "code",
   "execution_count": 5,
   "metadata": {},
   "outputs": [
    {
     "data": {
      "text/html": [
       "<div>\n",
       "<style scoped>\n",
       "    .dataframe tbody tr th:only-of-type {\n",
       "        vertical-align: middle;\n",
       "    }\n",
       "\n",
       "    .dataframe tbody tr th {\n",
       "        vertical-align: top;\n",
       "    }\n",
       "\n",
       "    .dataframe thead th {\n",
       "        text-align: right;\n",
       "    }\n",
       "</style>\n",
       "<table border=\"1\" class=\"dataframe\">\n",
       "  <thead>\n",
       "    <tr style=\"text-align: right;\">\n",
       "      <th></th>\n",
       "      <th>horas_estudo_mes</th>\n",
       "      <th>salario</th>\n",
       "    </tr>\n",
       "  </thead>\n",
       "  <tbody>\n",
       "    <tr>\n",
       "      <th>0</th>\n",
       "      <td>57.0</td>\n",
       "      <td>6813.0</td>\n",
       "    </tr>\n",
       "    <tr>\n",
       "      <th>1</th>\n",
       "      <td>48.0</td>\n",
       "      <td>6855.0</td>\n",
       "    </tr>\n",
       "    <tr>\n",
       "      <th>2</th>\n",
       "      <td>60.0</td>\n",
       "      <td>5801.0</td>\n",
       "    </tr>\n",
       "    <tr>\n",
       "      <th>3</th>\n",
       "      <td>73.0</td>\n",
       "      <td>7431.0</td>\n",
       "    </tr>\n",
       "    <tr>\n",
       "      <th>4</th>\n",
       "      <td>46.0</td>\n",
       "      <td>5475.0</td>\n",
       "    </tr>\n",
       "  </tbody>\n",
       "</table>\n",
       "</div>"
      ],
      "text/plain": [
       "   horas_estudo_mes  salario\n",
       "0              57.0   6813.0\n",
       "1              48.0   6855.0\n",
       "2              60.0   5801.0\n",
       "3              73.0   7431.0\n",
       "4              46.0   5475.0"
      ]
     },
     "execution_count": 5,
     "metadata": {},
     "output_type": "execute_result"
    }
   ],
   "source": [
    "df_dsa.head()"
   ]
  },
  {
   "cell_type": "code",
   "execution_count": 7,
   "metadata": {},
   "outputs": [
    {
     "name": "stdout",
     "output_type": "stream",
     "text": [
      "<class 'pandas.core.frame.DataFrame'>\n",
      "RangeIndex: 500 entries, 0 to 499\n",
      "Data columns (total 2 columns):\n",
      " #   Column            Non-Null Count  Dtype  \n",
      "---  ------            --------------  -----  \n",
      " 0   horas_estudo_mes  500 non-null    float64\n",
      " 1   salario           500 non-null    float64\n",
      "dtypes: float64(2)\n",
      "memory usage: 7.9 KB\n"
     ]
    }
   ],
   "source": [
    "df_dsa.info()"
   ]
  },
  {
   "cell_type": "markdown",
   "metadata": {},
   "source": [
    "## **Análise Exploratória - Resumo Estatístico** "
   ]
  },
  {
   "cell_type": "code",
   "execution_count": 8,
   "metadata": {},
   "outputs": [
    {
     "data": {
      "text/plain": [
       "horas_estudo_mes    0\n",
       "salario             0\n",
       "dtype: int64"
      ]
     },
     "execution_count": 8,
     "metadata": {},
     "output_type": "execute_result"
    }
   ],
   "source": [
    "#Verifica se há valores ausentes\n",
    "df_dsa.isnull().sum()"
   ]
  },
  {
   "cell_type": "code",
   "execution_count": 9,
   "metadata": {},
   "outputs": [
    {
     "data": {
      "text/html": [
       "<div>\n",
       "<style scoped>\n",
       "    .dataframe tbody tr th:only-of-type {\n",
       "        vertical-align: middle;\n",
       "    }\n",
       "\n",
       "    .dataframe tbody tr th {\n",
       "        vertical-align: top;\n",
       "    }\n",
       "\n",
       "    .dataframe thead th {\n",
       "        text-align: right;\n",
       "    }\n",
       "</style>\n",
       "<table border=\"1\" class=\"dataframe\">\n",
       "  <thead>\n",
       "    <tr style=\"text-align: right;\">\n",
       "      <th></th>\n",
       "      <th>horas_estudo_mes</th>\n",
       "      <th>salario</th>\n",
       "    </tr>\n",
       "  </thead>\n",
       "  <tbody>\n",
       "    <tr>\n",
       "      <th>horas_estudo_mes</th>\n",
       "      <td>1.000000</td>\n",
       "      <td>0.818576</td>\n",
       "    </tr>\n",
       "    <tr>\n",
       "      <th>salario</th>\n",
       "      <td>0.818576</td>\n",
       "      <td>1.000000</td>\n",
       "    </tr>\n",
       "  </tbody>\n",
       "</table>\n",
       "</div>"
      ],
      "text/plain": [
       "                  horas_estudo_mes   salario\n",
       "horas_estudo_mes          1.000000  0.818576\n",
       "salario                   0.818576  1.000000"
      ]
     },
     "execution_count": 9,
     "metadata": {},
     "output_type": "execute_result"
    }
   ],
   "source": [
    "#Correlação\n",
    "df_dsa.corr()"
   ]
  },
  {
   "cell_type": "code",
   "execution_count": 10,
   "metadata": {},
   "outputs": [
    {
     "data": {
      "text/html": [
       "<div>\n",
       "<style scoped>\n",
       "    .dataframe tbody tr th:only-of-type {\n",
       "        vertical-align: middle;\n",
       "    }\n",
       "\n",
       "    .dataframe tbody tr th {\n",
       "        vertical-align: top;\n",
       "    }\n",
       "\n",
       "    .dataframe thead th {\n",
       "        text-align: right;\n",
       "    }\n",
       "</style>\n",
       "<table border=\"1\" class=\"dataframe\">\n",
       "  <thead>\n",
       "    <tr style=\"text-align: right;\">\n",
       "      <th></th>\n",
       "      <th>horas_estudo_mes</th>\n",
       "      <th>salario</th>\n",
       "    </tr>\n",
       "  </thead>\n",
       "  <tbody>\n",
       "    <tr>\n",
       "      <th>count</th>\n",
       "      <td>500.000000</td>\n",
       "      <td>500.000000</td>\n",
       "    </tr>\n",
       "    <tr>\n",
       "      <th>mean</th>\n",
       "      <td>50.060000</td>\n",
       "      <td>6018.930000</td>\n",
       "    </tr>\n",
       "    <tr>\n",
       "      <th>std</th>\n",
       "      <td>14.659406</td>\n",
       "      <td>848.697853</td>\n",
       "    </tr>\n",
       "    <tr>\n",
       "      <th>min</th>\n",
       "      <td>1.000000</td>\n",
       "      <td>3664.000000</td>\n",
       "    </tr>\n",
       "    <tr>\n",
       "      <th>25%</th>\n",
       "      <td>39.750000</td>\n",
       "      <td>5473.000000</td>\n",
       "    </tr>\n",
       "    <tr>\n",
       "      <th>50%</th>\n",
       "      <td>50.000000</td>\n",
       "      <td>6013.500000</td>\n",
       "    </tr>\n",
       "    <tr>\n",
       "      <th>75%</th>\n",
       "      <td>60.000000</td>\n",
       "      <td>6542.000000</td>\n",
       "    </tr>\n",
       "    <tr>\n",
       "      <th>max</th>\n",
       "      <td>100.000000</td>\n",
       "      <td>9348.000000</td>\n",
       "    </tr>\n",
       "  </tbody>\n",
       "</table>\n",
       "</div>"
      ],
      "text/plain": [
       "       horas_estudo_mes      salario\n",
       "count        500.000000   500.000000\n",
       "mean          50.060000  6018.930000\n",
       "std           14.659406   848.697853\n",
       "min            1.000000  3664.000000\n",
       "25%           39.750000  5473.000000\n",
       "50%           50.000000  6013.500000\n",
       "75%           60.000000  6542.000000\n",
       "max          100.000000  9348.000000"
      ]
     },
     "execution_count": 10,
     "metadata": {},
     "output_type": "execute_result"
    }
   ],
   "source": [
    "#Resumo estatístico do dataset\n",
    "df_dsa.describe()"
   ]
  },
  {
   "cell_type": "code",
   "execution_count": 11,
   "metadata": {},
   "outputs": [
    {
     "data": {
      "text/plain": [
       "count    500.000000\n",
       "mean      50.060000\n",
       "std       14.659406\n",
       "min        1.000000\n",
       "25%       39.750000\n",
       "50%       50.000000\n",
       "75%       60.000000\n",
       "max      100.000000\n",
       "Name: horas_estudo_mes, dtype: float64"
      ]
     },
     "execution_count": 11,
     "metadata": {},
     "output_type": "execute_result"
    }
   ],
   "source": [
    "#Resumo estatístico da variável preditora\n",
    "df_dsa[\"horas_estudo_mes\"].describe()"
   ]
  },
  {
   "cell_type": "code",
   "execution_count": 12,
   "metadata": {},
   "outputs": [
    {
     "data": {
      "text/plain": [
       "<Axes: xlabel='horas_estudo_mes', ylabel='Count'>"
      ]
     },
     "execution_count": 12,
     "metadata": {},
     "output_type": "execute_result"
    },
    {
     "data": {
      "image/png": "[encoded data removed]",
      "text/plain": [
       "<Figure size 640x480 with 1 Axes>"
      ]
     },
     "metadata": {},
     "output_type": "display_data"
    }
   ],
   "source": [
    "#Histograma da variável preditora\n",
    "sns.histplot(data= df_dsa, x= \"horas_estudo_mes\", kde=True)"
   ]
  },
  {
   "cell_type": "markdown",
   "metadata": {},
   "source": [
    "## **Preparação dos Dados com Linguagem Python**"
   ]
  },
  {
   "cell_type": "code",
   "execution_count": 13,
   "metadata": {},
   "outputs": [],
   "source": [
    "# Prepara a variável de entrada X\n",
    "X = np.array(df_dsa[\"horas_estudo_mes\"])"
   ]
  },
  {
   "cell_type": "markdown",
   "metadata": {},
   "source": [
    "O algoritmo de regressão do Scikit-Learn espera receber os dados de entrada como um array"
   ]
  },
  {
   "cell_type": "code",
   "execution_count": 14,
   "metadata": {},
   "outputs": [
    {
     "data": {
      "text/plain": [
       "numpy.ndarray"
      ]
     },
     "execution_count": 14,
     "metadata": {},
     "output_type": "execute_result"
    }
   ],
   "source": [
    "type(X)"
   ]
  },
  {
   "cell_type": "code",
   "execution_count": 15,
   "metadata": {},
   "outputs": [],
   "source": [
    "#Ajusta o shape de X\n",
    "X = X.reshape(-1, 1)"
   ]
  },
  {
   "cell_type": "code",
   "execution_count": 16,
   "metadata": {},
   "outputs": [],
   "source": [
    "#Prepara a variável alvo\n",
    "y = df_dsa[\"salario\"]"
   ]
  },
  {
   "cell_type": "code",
   "execution_count": 17,
   "metadata": {},
   "outputs": [
    {
     "data": {
      "image/png": "[encoded data removed]",
      "text/plain": [
       "<Figure size 640x480 with 1 Axes>"
      ]
     },
     "metadata": {},
     "output_type": "display_data"
    }
   ],
   "source": [
    "#Gráfico de dispersão entre X e y\n",
    "plt.scatter(X, y, color= \"blue\", label = \"Dados Reais Históricos\")\n",
    "plt.xlabel(\"Horas de Estudo\")\n",
    "plt.ylabel(\"Salário\")\n",
    "plt.legend()\n",
    "plt.show()"
   ]
  },
  {
   "cell_type": "code",
   "execution_count": 18,
   "metadata": {},
   "outputs": [],
   "source": [
    "#Dividindo os dados em treinamento e teste\n",
    "X_treino, X_teste, y_treino, y_teste = train_test_split(X, y, test_size=0.2, random_state=42)"
   ]
  },
  {
   "cell_type": "code",
   "execution_count": 19,
   "metadata": {},
   "outputs": [
    {
     "data": {
      "text/plain": [
       "(400, 1)"
      ]
     },
     "execution_count": 19,
     "metadata": {},
     "output_type": "execute_result"
    }
   ],
   "source": [
    "X_treino.shape"
   ]
  },
  {
   "cell_type": "code",
   "execution_count": 20,
   "metadata": {},
   "outputs": [
    {
     "data": {
      "text/plain": [
       "(100, 1)"
      ]
     },
     "execution_count": 20,
     "metadata": {},
     "output_type": "execute_result"
    }
   ],
   "source": [
    "X_teste.shape"
   ]
  },
  {
   "cell_type": "code",
   "execution_count": 21,
   "metadata": {},
   "outputs": [
    {
     "data": {
      "text/plain": [
       "(400,)"
      ]
     },
     "execution_count": 21,
     "metadata": {},
     "output_type": "execute_result"
    }
   ],
   "source": [
    "y_treino.shape"
   ]
  },
  {
   "cell_type": "code",
   "execution_count": 22,
   "metadata": {},
   "outputs": [
    {
     "data": {
      "text/plain": [
       "(100,)"
      ]
     },
     "execution_count": 22,
     "metadata": {},
     "output_type": "execute_result"
    }
   ],
   "source": [
    "y_teste.shape"
   ]
  },
  {
   "cell_type": "code",
   "execution_count": 25,
   "metadata": {},
   "outputs": [
    {
     "name": "stdout",
     "output_type": "stream",
     "text": [
      "0      6813.0\n",
      "1      6855.0\n",
      "2      5801.0\n",
      "3      7431.0\n",
      "4      5475.0\n",
      "        ...  \n",
      "495    6259.0\n",
      "496    6099.0\n",
      "497    6170.0\n",
      "498    5064.0\n",
      "499    5236.0\n",
      "Name: salario, Length: 500, dtype: float64\n"
     ]
    }
   ],
   "source": [
    "print(y)"
   ]
  },
  {
   "cell_type": "code",
   "execution_count": 27,
   "metadata": {},
   "outputs": [
    {
     "name": "stdout",
     "output_type": "stream",
     "text": [
      "[[ 57.]\n",
      " [ 48.]\n",
      " [ 60.]\n",
      " [ 73.]\n",
      " [ 46.]\n",
      " [ 46.]\n",
      " [ 74.]\n",
      " [ 62.]\n",
      " [ 43.]\n",
      " [ 58.]\n",
      " [ 43.]\n",
      " [ 43.]\n",
      " [ 54.]\n",
      " [ 21.]\n",
      " [ 24.]\n",
      " [ 42.]\n",
      " [ 35.]\n",
      " [ 55.]\n",
      " [ 36.]\n",
      " [ 29.]\n",
      " [ 72.]\n",
      " [ 47.]\n",
      " [ 51.]\n",
      " [ 29.]\n",
      " [ 42.]\n",
      " [ 52.]\n",
      " [ 33.]\n",
      " [ 56.]\n",
      " [ 41.]\n",
      " [ 46.]\n",
      " [ 41.]\n",
      " [ 78.]\n",
      " [ 50.]\n",
      " [ 34.]\n",
      " [ 62.]\n",
      " [ 32.]\n",
      " [ 53.]\n",
      " [ 21.]\n",
      " [ 30.]\n",
      " [ 53.]\n",
      " [ 61.]\n",
      " [ 53.]\n",
      " [ 48.]\n",
      " [ 45.]\n",
      " [ 28.]\n",
      " [ 39.]\n",
      " [ 43.]\n",
      " [ 66.]\n",
      " [ 55.]\n",
      " [ 24.]\n",
      " [ 55.]\n",
      " [ 44.]\n",
      " [ 40.]\n",
      " [ 59.]\n",
      " [ 65.]\n",
      " [ 64.]\n",
      " [ 37.]\n",
      " [ 45.]\n",
      " [ 55.]\n",
      " [ 65.]\n",
      " [ 43.]\n",
      " [ 47.]\n",
      " [ 33.]\n",
      " [ 32.]\n",
      " [ 62.]\n",
      " [ 70.]\n",
      " [ 49.]\n",
      " [ 65.]\n",
      " [ 55.]\n",
      " [ 40.]\n",
      " [ 55.]\n",
      " [ 73.]\n",
      " [ 49.]\n",
      " [ 73.]\n",
      " [ 11.]\n",
      " [ 62.]\n",
      " [ 51.]\n",
      " [ 46.]\n",
      " [ 51.]\n",
      " [ 20.]\n",
      " [ 47.]\n",
      " [ 55.]\n",
      " [ 72.]\n",
      " [ 42.]\n",
      " [ 38.]\n",
      " [ 42.]\n",
      " [ 64.]\n",
      " [ 55.]\n",
      " [ 42.]\n",
      " [ 58.]\n",
      " [ 51.]\n",
      " [ 65.]\n",
      " [ 39.]\n",
      " [ 45.]\n",
      " [ 44.]\n",
      " [ 28.]\n",
      " [ 54.]\n",
      " [ 54.]\n",
      " [ 50.]\n",
      " [ 46.]\n",
      " [ 29.]\n",
      " [ 44.]\n",
      " [ 45.]\n",
      " [ 38.]\n",
      " [ 48.]\n",
      " [ 56.]\n",
      " [ 78.]\n",
      " [ 53.]\n",
      " [ 54.]\n",
      " [ 49.]\n",
      " [ 21.]\n",
      " [ 50.]\n",
      " [ 51.]\n",
      " [ 87.]\n",
      " [ 47.]\n",
      " [ 55.]\n",
      " [ 49.]\n",
      " [ 32.]\n",
      " [ 67.]\n",
      " [ 61.]\n",
      " [ 62.]\n",
      " [ 36.]\n",
      " [ 71.]\n",
      " [ 29.]\n",
      " [ 59.]\n",
      " [ 83.]\n",
      " [ 35.]\n",
      " [ 42.]\n",
      " [ 51.]\n",
      " [ 42.]\n",
      " [ 27.]\n",
      " [ 51.]\n",
      " [ 34.]\n",
      " [ 57.]\n",
      " [ 36.]\n",
      " [ 73.]\n",
      " [ 38.]\n",
      " [ 45.]\n",
      " [ 62.]\n",
      " [ 32.]\n",
      " [ 53.]\n",
      " [ 70.]\n",
      " [ 26.]\n",
      " [ 53.]\n",
      " [ 54.]\n",
      " [ 62.]\n",
      " [ 31.]\n",
      " [ 30.]\n",
      " [ 58.]\n",
      " [ 54.]\n",
      " [ 54.]\n",
      " [ 55.]\n",
      " [ 40.]\n",
      " [ 53.]\n",
      " [ 54.]\n",
      " [ 39.]\n",
      " [ 78.]\n",
      " [ 57.]\n",
      " [ 32.]\n",
      " [ 60.]\n",
      " [ 35.]\n",
      " [ 62.]\n",
      " [ 67.]\n",
      " [ 38.]\n",
      " [ 64.]\n",
      " [ 56.]\n",
      " [ 62.]\n",
      " [ 78.]\n",
      " [ 46.]\n",
      " [ 39.]\n",
      " [ 37.]\n",
      " [ 38.]\n",
      " [ 49.]\n",
      " [ 55.]\n",
      " [ 54.]\n",
      " [ 62.]\n",
      " [ 50.]\n",
      " [ 72.]\n",
      " [ 46.]\n",
      " [ 91.]\n",
      " [ 59.]\n",
      " [ 37.]\n",
      " [ 34.]\n",
      " [ 57.]\n",
      " [ 47.]\n",
      " [ 61.]\n",
      " [ 57.]\n",
      " [ 49.]\n",
      " [ 37.]\n",
      " [ 27.]\n",
      " [ 43.]\n",
      " [ 63.]\n",
      " [ 53.]\n",
      " [ 31.]\n",
      " [ 53.]\n",
      " [ 56.]\n",
      " [ 37.]\n",
      " [ 52.]\n",
      " [ 51.]\n",
      " [ 33.]\n",
      " [ 55.]\n",
      " [ 58.]\n",
      " [ 66.]\n",
      " [ 66.]\n",
      " [ 29.]\n",
      " [ 36.]\n",
      " [ 58.]\n",
      " [ 58.]\n",
      " [ 58.]\n",
      " [100.]\n",
      " [ 59.]\n",
      " [ 67.]\n",
      " [ 64.]\n",
      " [ 60.]\n",
      " [ 45.]\n",
      " [ 61.]\n",
      " [ 38.]\n",
      " [ 46.]\n",
      " [ 43.]\n",
      " [ 51.]\n",
      " [ 85.]\n",
      " [ 22.]\n",
      " [ 60.]\n",
      " [ 26.]\n",
      " [ 43.]\n",
      " [ 66.]\n",
      " [ 51.]\n",
      " [ 34.]\n",
      " [ 39.]\n",
      " [ 60.]\n",
      " [ 39.]\n",
      " [ 53.]\n",
      " [ 51.]\n",
      " [ 40.]\n",
      " [ 82.]\n",
      " [ 60.]\n",
      " [ 20.]\n",
      " [ 53.]\n",
      " [ 40.]\n",
      " [ 63.]\n",
      " [ 38.]\n",
      " [ 48.]\n",
      " [ 58.]\n",
      " [ 63.]\n",
      " [ 32.]\n",
      " [ 45.]\n",
      " [ 43.]\n",
      " [ 40.]\n",
      " [ 76.]\n",
      " [ 56.]\n",
      " [ 31.]\n",
      " [ 64.]\n",
      " [ 82.]\n",
      " [ 65.]\n",
      " [ 27.]\n",
      " [ 43.]\n",
      " [ 69.]\n",
      " [ 39.]\n",
      " [ 57.]\n",
      " [ 62.]\n",
      " [ 36.]\n",
      " [ 49.]\n",
      " [  1.]\n",
      " [ 35.]\n",
      " [ 46.]\n",
      " [ 31.]\n",
      " [ 74.]\n",
      " [ 29.]\n",
      " [ 43.]\n",
      " [ 52.]\n",
      " [ 72.]\n",
      " [ 28.]\n",
      " [ 67.]\n",
      " [ 50.]\n",
      " [ 35.]\n",
      " [ 57.]\n",
      " [ 53.]\n",
      " [ 41.]\n",
      " [ 51.]\n",
      " [ 44.]\n",
      " [ 52.]\n",
      " [ 60.]\n",
      " [ 74.]\n",
      " [ 31.]\n",
      " [ 82.]\n",
      " [ 21.]\n",
      " [ 48.]\n",
      " [ 59.]\n",
      " [ 54.]\n",
      " [ 41.]\n",
      " [ 47.]\n",
      " [ 43.]\n",
      " [ 41.]\n",
      " [ 63.]\n",
      " [ 55.]\n",
      " [ 40.]\n",
      " [ 63.]\n",
      " [ 55.]\n",
      " [ 62.]\n",
      " [ 59.]\n",
      " [ 38.]\n",
      " [ 42.]\n",
      " [ 61.]\n",
      " [ 59.]\n",
      " [ 50.]\n",
      " [ 52.]\n",
      " [ 69.]\n",
      " [ 41.]\n",
      " [ 58.]\n",
      " [ 47.]\n",
      " [ 47.]\n",
      " [ 66.]\n",
      " [ 62.]\n",
      " [ 62.]\n",
      " [ 70.]\n",
      " [ 50.]\n",
      " [ 60.]\n",
      " [ 45.]\n",
      " [ 55.]\n",
      " [ 48.]\n",
      " [ 51.]\n",
      " [ 59.]\n",
      " [ 38.]\n",
      " [ 81.]\n",
      " [ 35.]\n",
      " [ 32.]\n",
      " [ 67.]\n",
      " [ 62.]\n",
      " [ 59.]\n",
      " [ 59.]\n",
      " [ 50.]\n",
      " [ 37.]\n",
      " [ 51.]\n",
      " [ 40.]\n",
      " [ 65.]\n",
      " [ 48.]\n",
      " [ 38.]\n",
      " [ 45.]\n",
      " [ 56.]\n",
      " [ 42.]\n",
      " [ 38.]\n",
      " [ 54.]\n",
      " [ 54.]\n",
      " [ 42.]\n",
      " [ 43.]\n",
      " [ 53.]\n",
      " [ 28.]\n",
      " [ 29.]\n",
      " [ 39.]\n",
      " [ 47.]\n",
      " [ 55.]\n",
      " [ 72.]\n",
      " [ 63.]\n",
      " [ 48.]\n",
      " [ 50.]\n",
      " [ 35.]\n",
      " [ 50.]\n",
      " [ 46.]\n",
      " [ 55.]\n",
      " [ 38.]\n",
      " [ 58.]\n",
      " [ 73.]\n",
      " [ 48.]\n",
      " [ 56.]\n",
      " [ 60.]\n",
      " [ 44.]\n",
      " [ 53.]\n",
      " [ 50.]\n",
      " [ 51.]\n",
      " [ 38.]\n",
      " [ 50.]\n",
      " [ 57.]\n",
      " [ 72.]\n",
      " [ 64.]\n",
      " [ 82.]\n",
      " [ 38.]\n",
      " [ 63.]\n",
      " [ 53.]\n",
      " [ 83.]\n",
      " [ 38.]\n",
      " [ 37.]\n",
      " [ 41.]\n",
      " [ 18.]\n",
      " [ 42.]\n",
      " [ 39.]\n",
      " [ 52.]\n",
      " [ 55.]\n",
      " [ 78.]\n",
      " [ 64.]\n",
      " [ 41.]\n",
      " [ 37.]\n",
      " [ 57.]\n",
      " [ 30.]\n",
      " [ 77.]\n",
      " [ 68.]\n",
      " [ 43.]\n",
      " [ 24.]\n",
      " [ 70.]\n",
      " [ 48.]\n",
      " [ 69.]\n",
      " [ 26.]\n",
      " [ 41.]\n",
      " [ 50.]\n",
      " [ 51.]\n",
      " [ 43.]\n",
      " [ 59.]\n",
      " [ 34.]\n",
      " [ 48.]\n",
      " [ 52.]\n",
      " [ 58.]\n",
      " [ 61.]\n",
      " [ 33.]\n",
      " [ 27.]\n",
      " [ 69.]\n",
      " [ 55.]\n",
      " [ 39.]\n",
      " [ 73.]\n",
      " [ 52.]\n",
      " [ 68.]\n",
      " [ 51.]\n",
      " [ 81.]\n",
      " [ 76.]\n",
      " [ 46.]\n",
      " [ 65.]\n",
      " [ 60.]\n",
      " [ 71.]\n",
      " [ 36.]\n",
      " [ 60.]\n",
      " [ 66.]\n",
      " [ 24.]\n",
      " [ 32.]\n",
      " [ 19.]\n",
      " [ 46.]\n",
      " [ 61.]\n",
      " [ 73.]\n",
      " [ 51.]\n",
      " [ 74.]\n",
      " [ 29.]\n",
      " [ 24.]\n",
      " [ 49.]\n",
      " [ 56.]\n",
      " [ 50.]\n",
      " [ 19.]\n",
      " [ 49.]\n",
      " [ 30.]\n",
      " [ 60.]\n",
      " [ 55.]\n",
      " [ 36.]\n",
      " [ 42.]\n",
      " [ 34.]\n",
      " [ 49.]\n",
      " [ 64.]\n",
      " [ 35.]\n",
      " [ 58.]\n",
      " [ 42.]\n",
      " [ 38.]\n",
      " [ 48.]\n",
      " [ 34.]\n",
      " [ 42.]\n",
      " [ 32.]\n",
      " [ 79.]\n",
      " [ 51.]\n",
      " [ 40.]\n",
      " [ 53.]\n",
      " [ 48.]\n",
      " [ 47.]\n",
      " [ 59.]\n",
      " [ 61.]\n",
      " [ 42.]\n",
      " [ 41.]\n",
      " [ 46.]\n",
      " [ 15.]\n",
      " [ 27.]\n",
      " [ 71.]\n",
      " [ 75.]\n",
      " [ 46.]\n",
      " [ 59.]\n",
      " [ 55.]\n",
      " [ 96.]\n",
      " [ 67.]\n",
      " [ 48.]\n",
      " [ 36.]\n",
      " [ 26.]\n",
      " [ 53.]\n",
      " [ 39.]\n",
      " [ 29.]\n",
      " [ 40.]\n",
      " [ 34.]\n",
      " [ 75.]\n",
      " [ 63.]\n",
      " [ 50.]\n",
      " [ 72.]\n",
      " [ 51.]\n",
      " [ 37.]\n",
      " [ 73.]\n",
      " [ 58.]\n",
      " [ 34.]\n",
      " [ 47.]\n",
      " [ 37.]\n",
      " [ 29.]]\n"
     ]
    }
   ],
   "source": [
    "print(X)"
   ]
  },
  {
   "cell_type": "markdown",
   "metadata": {},
   "source": [
    "X está no formato de matriz e y está no formato de vetor"
   ]
  },
  {
   "cell_type": "markdown",
   "metadata": {},
   "source": [
    "## **Modelagem Preditiva (Machine Learning)**"
   ]
  },
  {
   "cell_type": "code",
   "execution_count": 24,
   "metadata": {},
   "outputs": [],
   "source": [
    "# Cria o modelo de regressão linear simples\n",
    "modelo = LinearRegression()"
   ]
  },
  {
   "cell_type": "code",
   "execution_count": 28,
   "metadata": {},
   "outputs": [
    {
     "data": {
      "text/html": [
       "<style>#sk-container-id-1 {\n",
       "  /* Definition of color scheme common for light and dark mode */\n",
       "  --sklearn-color-text: black;\n",
       "  --sklearn-color-line: gray;\n",
       "  /* Definition of color scheme for unfitted estimators */\n",
       "  --sklearn-color-unfitted-level-0: #fff5e6;\n",
       "  --sklearn-color-unfitted-level-1: #f6e4d2;\n",
       "  --sklearn-color-unfitted-level-2: #ffe0b3;\n",
       "  --sklearn-color-unfitted-level-3: chocolate;\n",
       "  /* Definition of color scheme for fitted estimators */\n",
       "  --sklearn-color-fitted-level-0: #f0f8ff;\n",
       "  --sklearn-color-fitted-level-1: #d4ebff;\n",
       "  --sklearn-color-fitted-level-2: #b3dbfd;\n",
       "  --sklearn-color-fitted-level-3: cornflowerblue;\n",
       "\n",
       "  /* Specific color for light theme */\n",
       "  --sklearn-color-text-on-default-background: var(--sg-text-color, var(--theme-code-foreground, var(--jp-content-font-color1, black)));\n",
       "  --sklearn-color-background: var(--sg-background-color, var(--theme-background, var(--jp-layout-color0, white)));\n",
       "  --sklearn-color-border-box: var(--sg-text-color, var(--theme-code-foreground, var(--jp-content-font-color1, black)));\n",
       "  --sklearn-color-icon: #696969;\n",
       "\n",
       "  @media (prefers-color-scheme: dark) {\n",
       "    /* Redefinition of color scheme for dark theme */\n",
       "    --sklearn-color-text-on-default-background: var(--sg-text-color, var(--theme-code-foreground, var(--jp-content-font-color1, white)));\n",
       "    --sklearn-color-background: var(--sg-background-color, var(--theme-background, var(--jp-layout-color0, #111)));\n",
       "    --sklearn-color-border-box: var(--sg-text-color, var(--theme-code-foreground, var(--jp-content-font-color1, white)));\n",
       "    --sklearn-color-icon: #878787;\n",
       "  }\n",
       "}\n",
       "\n",
       "#sk-container-id-1 {\n",
       "  color: var(--sklearn-color-text);\n",
       "}\n",
       "\n",
       "#sk-container-id-1 pre {\n",
       "  padding: 0;\n",
       "}\n",
       "\n",
       "#sk-container-id-1 input.sk-hidden--visually {\n",
       "  border: 0;\n",
       "  clip: rect(1px 1px 1px 1px);\n",
       "  clip: rect(1px, 1px, 1px, 1px);\n",
       "  height: 1px;\n",
       "  margin: -1px;\n",
       "  overflow: hidden;\n",
       "  padding: 0;\n",
       "  position: absolute;\n",
       "  width: 1px;\n",
       "}\n",
       "\n",
       "#sk-container-id-1 div.sk-dashed-wrapped {\n",
       "  border: 1px dashed var(--sklearn-color-line);\n",
       "  margin: 0 0.4em 0.5em 0.4em;\n",
       "  box-sizing: border-box;\n",
       "  padding-bottom: 0.4em;\n",
       "  background-color: var(--sklearn-color-background);\n",
       "}\n",
       "\n",
       "#sk-container-id-1 div.sk-container {\n",
       "  /* jupyter's `normalize.less` sets `[hidden] { display: none; }`\n",
       "     but bootstrap.min.css set `[hidden] { display: none !important; }`\n",
       "     so we also need the `!important` here to be able to override the\n",
       "     default hidden behavior on the sphinx rendered scikit-learn.org.\n",
       "     See: https://github.com/scikit-learn/scikit-learn/issues/21755 */\n",
       "  display: inline-block !important;\n",
       "  position: relative;\n",
       "}\n",
       "\n",
       "#sk-container-id-1 div.sk-text-repr-fallback {\n",
       "  display: none;\n",
       "}\n",
       "\n",
       "div.sk-parallel-item,\n",
       "div.sk-serial,\n",
       "div.sk-item {\n",
       "  /* draw centered vertical line to link estimators */\n",
       "  background-image: linear-gradient(var(--sklearn-color-text-on-default-background), var(--sklearn-color-text-on-default-background));\n",
       "  background-size: 2px 100%;\n",
       "  background-repeat: no-repeat;\n",
       "  background-position: center center;\n",
       "}\n",
       "\n",
       "/* Parallel-specific style estimator block */\n",
       "\n",
       "#sk-container-id-1 div.sk-parallel-item::after {\n",
       "  content: \"\";\n",
       "  width: 100%;\n",
       "  border-bottom: 2px solid var(--sklearn-color-text-on-default-background);\n",
       "  flex-grow: 1;\n",
       "}\n",
       "\n",
       "#sk-container-id-1 div.sk-parallel {\n",
       "  display: flex;\n",
       "  align-items: stretch;\n",
       "  justify-content: center;\n",
       "  background-color: var(--sklearn-color-background);\n",
       "  position: relative;\n",
       "}\n",
       "\n",
       "#sk-container-id-1 div.sk-parallel-item {\n",
       "  display: flex;\n",
       "  flex-direction: column;\n",
       "}\n",
       "\n",
       "#sk-container-id-1 div.sk-parallel-item:first-child::after {\n",
       "  align-self: flex-end;\n",
       "  width: 50%;\n",
       "}\n",
       "\n",
       "#sk-container-id-1 div.sk-parallel-item:last-child::after {\n",
       "  align-self: flex-start;\n",
       "  width: 50%;\n",
       "}\n",
       "\n",
       "#sk-container-id-1 div.sk-parallel-item:only-child::after {\n",
       "  width: 0;\n",
       "}\n",
       "\n",
       "/* Serial-specific style estimator block */\n",
       "\n",
       "#sk-container-id-1 div.sk-serial {\n",
       "  display: flex;\n",
       "  flex-direction: column;\n",
       "  align-items: center;\n",
       "  background-color: var(--sklearn-color-background);\n",
       "  padding-right: 1em;\n",
       "  padding-left: 1em;\n",
       "}\n",
       "\n",
       "\n",
       "/* Toggleable style: style used for estimator/Pipeline/ColumnTransformer box that is\n",
       "clickable and can be expanded/collapsed.\n",
       "- Pipeline and ColumnTransformer use this feature and define the default style\n",
       "- Estimators will overwrite some part of the style using the `sk-estimator` class\n",
       "*/\n",
       "\n",
       "/* Pipeline and ColumnTransformer style (default) */\n",
       "\n",
       "#sk-container-id-1 div.sk-toggleable {\n",
       "  /* Default theme specific background. It is overwritten whether we have a\n",
       "  specific estimator or a Pipeline/ColumnTransformer */\n",
       "  background-color: var(--sklearn-color-background);\n",
       "}\n",
       "\n",
       "/* Toggleable label */\n",
       "#sk-container-id-1 label.sk-toggleable__label {\n",
       "  cursor: pointer;\n",
       "  display: block;\n",
       "  width: 100%;\n",
       "  margin-bottom: 0;\n",
       "  padding: 0.5em;\n",
       "  box-sizing: border-box;\n",
       "  text-align: center;\n",
       "}\n",
       "\n",
       "#sk-container-id-1 label.sk-toggleable__label-arrow:before {\n",
       "  /* Arrow on the left of the label */\n",
       "  content: \"▸\";\n",
       "  float: left;\n",
       "  margin-right: 0.25em;\n",
       "  color: var(--sklearn-color-icon);\n",
       "}\n",
       "\n",
       "#sk-container-id-1 label.sk-toggleable__label-arrow:hover:before {\n",
       "  color: var(--sklearn-color-text);\n",
       "}\n",
       "\n",
       "/* Toggleable content - dropdown */\n",
       "\n",
       "#sk-container-id-1 div.sk-toggleable__content {\n",
       "  max-height: 0;\n",
       "  max-width: 0;\n",
       "  overflow: hidden;\n",
       "  text-align: left;\n",
       "  /* unfitted */\n",
       "  background-color: var(--sklearn-color-unfitted-level-0);\n",
       "}\n",
       "\n",
       "#sk-container-id-1 div.sk-toggleable__content.fitted {\n",
       "  /* fitted */\n",
       "  background-color: var(--sklearn-color-fitted-level-0);\n",
       "}\n",
       "\n",
       "#sk-container-id-1 div.sk-toggleable__content pre {\n",
       "  margin: 0.2em;\n",
       "  border-radius: 0.25em;\n",
       "  color: var(--sklearn-color-text);\n",
       "  /* unfitted */\n",
       "  background-color: var(--sklearn-color-unfitted-level-0);\n",
       "}\n",
       "\n",
       "#sk-container-id-1 div.sk-toggleable__content.fitted pre {\n",
       "  /* unfitted */\n",
       "  background-color: var(--sklearn-color-fitted-level-0);\n",
       "}\n",
       "\n",
       "#sk-container-id-1 input.sk-toggleable__control:checked~div.sk-toggleable__content {\n",
       "  /* Expand drop-down */\n",
       "  max-height: 200px;\n",
       "  max-width: 100%;\n",
       "  overflow: auto;\n",
       "}\n",
       "\n",
       "#sk-container-id-1 input.sk-toggleable__control:checked~label.sk-toggleable__label-arrow:before {\n",
       "  content: \"▾\";\n",
       "}\n",
       "\n",
       "/* Pipeline/ColumnTransformer-specific style */\n",
       "\n",
       "#sk-container-id-1 div.sk-label input.sk-toggleable__control:checked~label.sk-toggleable__label {\n",
       "  color: var(--sklearn-color-text);\n",
       "  background-color: var(--sklearn-color-unfitted-level-2);\n",
       "}\n",
       "\n",
       "#sk-container-id-1 div.sk-label.fitted input.sk-toggleable__control:checked~label.sk-toggleable__label {\n",
       "  background-color: var(--sklearn-color-fitted-level-2);\n",
       "}\n",
       "\n",
       "/* Estimator-specific style */\n",
       "\n",
       "/* Colorize estimator box */\n",
       "#sk-container-id-1 div.sk-estimator input.sk-toggleable__control:checked~label.sk-toggleable__label {\n",
       "  /* unfitted */\n",
       "  background-color: var(--sklearn-color-unfitted-level-2);\n",
       "}\n",
       "\n",
       "#sk-container-id-1 div.sk-estimator.fitted input.sk-toggleable__control:checked~label.sk-toggleable__label {\n",
       "  /* fitted */\n",
       "  background-color: var(--sklearn-color-fitted-level-2);\n",
       "}\n",
       "\n",
       "#sk-container-id-1 div.sk-label label.sk-toggleable__label,\n",
       "#sk-container-id-1 div.sk-label label {\n",
       "  /* The background is the default theme color */\n",
       "  color: var(--sklearn-color-text-on-default-background);\n",
       "}\n",
       "\n",
       "/* On hover, darken the color of the background */\n",
       "#sk-container-id-1 div.sk-label:hover label.sk-toggleable__label {\n",
       "  color: var(--sklearn-color-text);\n",
       "  background-color: var(--sklearn-color-unfitted-level-2);\n",
       "}\n",
       "\n",
       "/* Label box, darken color on hover, fitted */\n",
       "#sk-container-id-1 div.sk-label.fitted:hover label.sk-toggleable__label.fitted {\n",
       "  color: var(--sklearn-color-text);\n",
       "  background-color: var(--sklearn-color-fitted-level-2);\n",
       "}\n",
       "\n",
       "/* Estimator label */\n",
       "\n",
       "#sk-container-id-1 div.sk-label label {\n",
       "  font-family: monospace;\n",
       "  font-weight: bold;\n",
       "  display: inline-block;\n",
       "  line-height: 1.2em;\n",
       "}\n",
       "\n",
       "#sk-container-id-1 div.sk-label-container {\n",
       "  text-align: center;\n",
       "}\n",
       "\n",
       "/* Estimator-specific */\n",
       "#sk-container-id-1 div.sk-estimator {\n",
       "  font-family: monospace;\n",
       "  border: 1px dotted var(--sklearn-color-border-box);\n",
       "  border-radius: 0.25em;\n",
       "  box-sizing: border-box;\n",
       "  margin-bottom: 0.5em;\n",
       "  /* unfitted */\n",
       "  background-color: var(--sklearn-color-unfitted-level-0);\n",
       "}\n",
       "\n",
       "#sk-container-id-1 div.sk-estimator.fitted {\n",
       "  /* fitted */\n",
       "  background-color: var(--sklearn-color-fitted-level-0);\n",
       "}\n",
       "\n",
       "/* on hover */\n",
       "#sk-container-id-1 div.sk-estimator:hover {\n",
       "  /* unfitted */\n",
       "  background-color: var(--sklearn-color-unfitted-level-2);\n",
       "}\n",
       "\n",
       "#sk-container-id-1 div.sk-estimator.fitted:hover {\n",
       "  /* fitted */\n",
       "  background-color: var(--sklearn-color-fitted-level-2);\n",
       "}\n",
       "\n",
       "/* Specification for estimator info (e.g. \"i\" and \"?\") */\n",
       "\n",
       "/* Common style for \"i\" and \"?\" */\n",
       "\n",
       ".sk-estimator-doc-link,\n",
       "a:link.sk-estimator-doc-link,\n",
       "a:visited.sk-estimator-doc-link {\n",
       "  float: right;\n",
       "  font-size: smaller;\n",
       "  line-height: 1em;\n",
       "  font-family: monospace;\n",
       "  background-color: var(--sklearn-color-background);\n",
       "  border-radius: 1em;\n",
       "  height: 1em;\n",
       "  width: 1em;\n",
       "  text-decoration: none !important;\n",
       "  margin-left: 1ex;\n",
       "  /* unfitted */\n",
       "  border: var(--sklearn-color-unfitted-level-1) 1pt solid;\n",
       "  color: var(--sklearn-color-unfitted-level-1);\n",
       "}\n",
       "\n",
       ".sk-estimator-doc-link.fitted,\n",
       "a:link.sk-estimator-doc-link.fitted,\n",
       "a:visited.sk-estimator-doc-link.fitted {\n",
       "  /* fitted */\n",
       "  border: var(--sklearn-color-fitted-level-1) 1pt solid;\n",
       "  color: var(--sklearn-color-fitted-level-1);\n",
       "}\n",
       "\n",
       "/* On hover */\n",
       "div.sk-estimator:hover .sk-estimator-doc-link:hover,\n",
       ".sk-estimator-doc-link:hover,\n",
       "div.sk-label-container:hover .sk-estimator-doc-link:hover,\n",
       ".sk-estimator-doc-link:hover {\n",
       "  /* unfitted */\n",
       "  background-color: var(--sklearn-color-unfitted-level-3);\n",
       "  color: var(--sklearn-color-background);\n",
       "  text-decoration: none;\n",
       "}\n",
       "\n",
       "div.sk-estimator.fitted:hover .sk-estimator-doc-link.fitted:hover,\n",
       ".sk-estimator-doc-link.fitted:hover,\n",
       "div.sk-label-container:hover .sk-estimator-doc-link.fitted:hover,\n",
       ".sk-estimator-doc-link.fitted:hover {\n",
       "  /* fitted */\n",
       "  background-color: var(--sklearn-color-fitted-level-3);\n",
       "  color: var(--sklearn-color-background);\n",
       "  text-decoration: none;\n",
       "}\n",
       "\n",
       "/* Span, style for the box shown on hovering the info icon */\n",
       ".sk-estimator-doc-link span {\n",
       "  display: none;\n",
       "  z-index: 9999;\n",
       "  position: relative;\n",
       "  font-weight: normal;\n",
       "  right: .2ex;\n",
       "  padding: .5ex;\n",
       "  margin: .5ex;\n",
       "  width: min-content;\n",
       "  min-width: 20ex;\n",
       "  max-width: 50ex;\n",
       "  color: var(--sklearn-color-text);\n",
       "  box-shadow: 2pt 2pt 4pt #999;\n",
       "  /* unfitted */\n",
       "  background: var(--sklearn-color-unfitted-level-0);\n",
       "  border: .5pt solid var(--sklearn-color-unfitted-level-3);\n",
       "}\n",
       "\n",
       ".sk-estimator-doc-link.fitted span {\n",
       "  /* fitted */\n",
       "  background: var(--sklearn-color-fitted-level-0);\n",
       "  border: var(--sklearn-color-fitted-level-3);\n",
       "}\n",
       "\n",
       ".sk-estimator-doc-link:hover span {\n",
       "  display: block;\n",
       "}\n",
       "\n",
       "/* \"?\"-specific style due to the `<a>` HTML tag */\n",
       "\n",
       "#sk-container-id-1 a.estimator_doc_link {\n",
       "  float: right;\n",
       "  font-size: 1rem;\n",
       "  line-height: 1em;\n",
       "  font-family: monospace;\n",
       "  background-color: var(--sklearn-color-background);\n",
       "  border-radius: 1rem;\n",
       "  height: 1rem;\n",
       "  width: 1rem;\n",
       "  text-decoration: none;\n",
       "  /* unfitted */\n",
       "  color: var(--sklearn-color-unfitted-level-1);\n",
       "  border: var(--sklearn-color-unfitted-level-1) 1pt solid;\n",
       "}\n",
       "\n",
       "#sk-container-id-1 a.estimator_doc_link.fitted {\n",
       "  /* fitted */\n",
       "  border: var(--sklearn-color-fitted-level-1) 1pt solid;\n",
       "  color: var(--sklearn-color-fitted-level-1);\n",
       "}\n",
       "\n",
       "/* On hover */\n",
       "#sk-container-id-1 a.estimator_doc_link:hover {\n",
       "  /* unfitted */\n",
       "  background-color: var(--sklearn-color-unfitted-level-3);\n",
       "  color: var(--sklearn-color-background);\n",
       "  text-decoration: none;\n",
       "}\n",
       "\n",
       "#sk-container-id-1 a.estimator_doc_link.fitted:hover {\n",
       "  /* fitted */\n",
       "  background-color: var(--sklearn-color-fitted-level-3);\n",
       "}\n",
       "</style><div id=\"sk-container-id-1\" class=\"sk-top-container\"><div class=\"sk-text-repr-fallback\"><pre>LinearRegression()</pre><b>In a Jupyter environment, please rerun this cell to show the HTML representation or trust the notebook. <br />On GitHub, the HTML representation is unable to render, please try loading this page with nbviewer.org.</b></div><div class=\"sk-container\" hidden><div class=\"sk-item\"><div class=\"sk-estimator fitted sk-toggleable\"><input class=\"sk-toggleable__control sk-hidden--visually\" id=\"sk-estimator-id-1\" type=\"checkbox\" checked><label for=\"sk-estimator-id-1\" class=\"sk-toggleable__label fitted sk-toggleable__label-arrow fitted\">&nbsp;&nbsp;LinearRegression<a class=\"sk-estimator-doc-link fitted\" rel=\"noreferrer\" target=\"_blank\" href=\"https://scikit-learn.org/1.4/modules/generated/sklearn.linear_model.LinearRegression.html\">?<span>Documentation for LinearRegression</span></a><span class=\"sk-estimator-doc-link fitted\">i<span>Fitted</span></span></label><div class=\"sk-toggleable__content fitted\"><pre>LinearRegression()</pre></div> </div></div></div></div>"
      ],
      "text/plain": [
       "LinearRegression()"
      ]
     },
     "execution_count": 28,
     "metadata": {},
     "output_type": "execute_result"
    }
   ],
   "source": [
    "#Treina o modelo \n",
    "modelo.fit(X_treino, y_treino)"
   ]
  },
  {
   "cell_type": "code",
   "execution_count": 29,
   "metadata": {},
   "outputs": [
    {
     "data": {
      "image/png": "[encoded data removed]",
      "text/plain": [
       "<Figure size 640x480 with 1 Axes>"
      ]
     },
     "metadata": {},
     "output_type": "display_data"
    }
   ],
   "source": [
    "#Visualiza a reta de regressão linear (previsões) e os dados reais usados no treinamento\n",
    "plt.scatter(X, y, color=\"blue\", label = \"Dados Reais Históricos\")\n",
    "plt.plot(X, modelo.predict(X), color = \"red\", label = \"Reta de Regressão com as previsões do modelo\")\n",
    "plt.xlabel(\"horas de Estudo\")\n",
    "plt.ylabel(\"Salário\")\n",
    "plt.legend()\n",
    "plt.show()"
   ]
  },
  {
   "cell_type": "code",
   "execution_count": 30,
   "metadata": {},
   "outputs": [
    {
     "name": "stdout",
     "output_type": "stream",
     "text": [
      "Coeficiente R²: 0.59\n"
     ]
    }
   ],
   "source": [
    "#Avalia o modelo nos dados de teste\n",
    "score = modelo.score(X_teste, y_teste)\n",
    "print(f\"Coeficiente R²: {score:.2f}\")"
   ]
  },
  {
   "cell_type": "code",
   "execution_count": 31,
   "metadata": {},
   "outputs": [
    {
     "data": {
      "text/plain": [
       "3596.7837243727527"
      ]
     },
     "execution_count": 31,
     "metadata": {},
     "output_type": "execute_result"
    }
   ],
   "source": [
    "#Intercepto - parâmetro w0\n",
    "modelo.intercept_"
   ]
  },
  {
   "cell_type": "code",
   "execution_count": 32,
   "metadata": {},
   "outputs": [
    {
     "data": {
      "text/plain": [
       "array([48.18185277])"
      ]
     },
     "execution_count": 32,
     "metadata": {},
     "output_type": "execute_result"
    }
   ],
   "source": [
    "#Slope - parâmetro w1\n",
    "modelo.coef_"
   ]
  },
  {
   "cell_type": "markdown",
   "metadata": {},
   "source": [
    "<img src=\"reglinear.png\" width=800>"
   ]
  },
  {
   "cell_type": "markdown",
   "metadata": {},
   "source": [
    "## **Deploy do Modelo**"
   ]
  },
  {
   "cell_type": "markdown",
   "metadata": {},
   "source": [
    "Usando o modelo para prever o salário com base nas horas de estudo"
   ]
  },
  {
   "cell_type": "code",
   "execution_count": 34,
   "metadata": {},
   "outputs": [
    {
     "name": "stdout",
     "output_type": "stream",
     "text": [
      "Se você estudar cerca de [[48]] horas por mês seu salário pode ser igual a [5909.5126574]\n"
     ]
    }
   ],
   "source": [
    "#Define um novo valor para horas de estudo\n",
    "horas_estudo_novo = np.array([[48]])\n",
    "\n",
    "#Faz previsão com o modelo treinado\n",
    "salario_previsto = modelo.predict(horas_estudo_novo)\n",
    "\n",
    "print(f\"Se você estudar cerca de\", horas_estudo_novo, \"horas por mês seu salário pode ser igual a\", salario_previsto)"
   ]
  },
  {
   "cell_type": "code",
   "execution_count": 36,
   "metadata": {},
   "outputs": [
    {
     "name": "stdout",
     "output_type": "stream",
     "text": [
      "[[5909.5126574]]\n"
     ]
    }
   ],
   "source": [
    "#Mesmo resultado anterior usando os parâmetros (coeficientes) aprendidos pelo modelo\n",
    "# y_novo = w0 + w1 * X\n",
    "salario = modelo.intercept_ + (modelo.coef_ * horas_estudo_novo)\n",
    "print(salario)"
   ]
  },
  {
   "cell_type": "code",
   "execution_count": 38,
   "metadata": {},
   "outputs": [
    {
     "name": "stdout",
     "output_type": "stream",
     "text": [
      "Se você estudar cerca de [[65]] horas por mês seu salário pode ser igual a [6728.60415452]\n"
     ]
    }
   ],
   "source": [
    "#Define um novo valor para horas de estudo\n",
    "horas_estudo_novo = np.array([[65]])\n",
    "#Faz previsão com o modelo treinado\n",
    "salario_previsto = modelo.predict(horas_estudo_novo)\n",
    "print(f\"Se você estudar cerca de\", horas_estudo_novo, \"horas por mês seu salário pode ser igual a\", salario_previsto)"
   ]
  },
  {
   "cell_type": "code",
   "execution_count": 39,
   "metadata": {},
   "outputs": [
    {
     "name": "stdout",
     "output_type": "stream",
     "text": [
      "Se você estudar cerca de [[73]] horas por mês seu salário pode ser igual a [7114.05897669]\n"
     ]
    }
   ],
   "source": [
    "#Define um novo valor para horas de estudo\n",
    "horas_estudo_novo = np.array([[73]])\n",
    "#Faz previsão com o modelo treinado\n",
    "salario_previsto = modelo.predict(horas_estudo_novo)\n",
    "print(f\"Se você estudar cerca de\", horas_estudo_novo, \"horas por mês seu salário pode ser igual a\", salario_previsto)"
   ]
  }
 ],
 "metadata": {
  "kernelspec": {
   "display_name": "base",
   "language": "python",
   "name": "python3"
  },
  "language_info": {
   "codemirror_mode": {
    "name": "ipython",
    "version": 3
   },
   "file_extension": ".py",
   "mimetype": "text/x-python",
   "name": "python",
   "nbconvert_exporter": "python",
   "pygments_lexer": "ipython3",
   "version": "3.12.4"
  }
 },
 "nbformat": 4,
 "nbformat_minor": 2
}
